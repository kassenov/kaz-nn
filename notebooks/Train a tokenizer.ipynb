{
 "cells": [
  {
   "cell_type": "markdown",
   "id": "beautiful-actress",
   "metadata": {},
   "source": [
    "https://huggingface.co/blog/how-to-train"
   ]
  },
  {
   "cell_type": "code",
   "execution_count": 7,
   "id": "informed-hundred",
   "metadata": {},
   "outputs": [
    {
     "data": {
      "text/plain": [
       "['all-datasets/kk-1.txt',\n",
       " 'all-datasets/kk_part_2.txt',\n",
       " 'all-datasets/kk.txt',\n",
       " 'all-datasets/kaz_wikipedia_2016_300K-sentences.txt',\n",
       " 'all-datasets/kaz_newscrawl_2016_1M-sentences.txt']"
      ]
     },
     "execution_count": 7,
     "metadata": {},
     "output_type": "execute_result"
    }
   ],
   "source": [
    "from pathlib import Path\n",
    "\n",
    "from tokenizers import ByteLevelBPETokenizer\n",
    "\n",
    "paths = [str(x) for x in Path(\"./all-datasets/\").glob(\"**/*.txt\")]\n",
    "\n",
    "paths"
   ]
  },
  {
   "cell_type": "code",
   "execution_count": 8,
   "id": "logical-korea",
   "metadata": {
    "scrolled": true
   },
   "outputs": [
    {
     "data": {
      "text/plain": [
       "['./kaz-tokenizer-vocab.json', './kaz-tokenizer-merges.txt']"
      ]
     },
     "execution_count": 8,
     "metadata": {},
     "output_type": "execute_result"
    }
   ],
   "source": [
    "# Initialize a tokenizer\n",
    "tokenizer = ByteLevelBPETokenizer()\n",
    "\n",
    "# Customize training\n",
    "tokenizer.train(files=paths, vocab_size=52_000, min_frequency=2, special_tokens=[\n",
    "    \"<s>\",\n",
    "    \"<pad>\",\n",
    "    \"</s>\",\n",
    "    \"<unk>\",\n",
    "    \"<mask>\",\n",
    "])\n",
    "\n",
    "# Save files to disk\n",
    "tokenizer.save_model(\".\", \"kaz-tokenizer\")"
   ]
  },
  {
   "cell_type": "code",
   "execution_count": 13,
   "id": "unlimited-sussex",
   "metadata": {},
   "outputs": [
    {
     "name": "stdout",
     "output_type": "stream",
     "text": [
      "Encoding(num_tokens=19, attributes=[ids, type_ids, tokens, offsets, attention_mask, special_tokens_mask, overflowing])\n"
     ]
    }
   ],
   "source": [
    "from tokenizers.implementations import ByteLevelBPETokenizer\n",
    "from tokenizers.processors import BertProcessing\n",
    "\n",
    "\n",
    "tokenizer = ByteLevelBPETokenizer(\n",
    "    \"./kaz-tokenizer-vocab.json\",\n",
    "    \"./kaz-tokenizer-merges.txt\",\n",
    ")\n",
    "tokenizer._tokenizer.post_processor = BertProcessing(\n",
    "    (\"</s>\", tokenizer.token_to_id(\"</s>\")),\n",
    "    (\"<s>\", tokenizer.token_to_id(\"<s>\")),\n",
    ")\n",
    "tokenizer.enable_truncation(max_length=512)\n",
    "\n",
    "encoded = tokenizer.encode(\"1000 метрге төрт адамдық байдарка қайықпен жарысуда Қазақстан құрамасы алтын медаль алды.\")\n",
    "print(\n",
    "    encoded\n",
    ")"
   ]
  },
  {
   "cell_type": "code",
   "execution_count": 14,
   "id": "unauthorized-think",
   "metadata": {},
   "outputs": [
    {
     "data": {
      "text/plain": [
       "['<s>',\n",
       " '1000',\n",
       " 'ĠÐ¼ÐµÑĤÑĢÐ³Ðµ',\n",
       " 'ĠÑĤÓ©ÑĢÑĤ',\n",
       " 'ĠÐ°Ð´Ð°Ð¼Ð´ÑĭÒĽ',\n",
       " 'ĠÐ±Ð°Ð¹',\n",
       " 'Ð´Ð°ÑĢ',\n",
       " 'ÐºÐ°',\n",
       " 'ĠÒĽÐ°Ð¹ÑĭÒĽ',\n",
       " 'Ð¿ÐµÐ½',\n",
       " 'ĠÐ¶Ð°ÑĢÑĭÑģ',\n",
       " 'ÑĥÐ´Ð°',\n",
       " 'ĠÒļÐ°Ð·Ð°ÒĽÑģÑĤÐ°Ð½',\n",
       " 'ĠÒĽÒ±ÑĢÐ°Ð¼Ð°ÑģÑĭ',\n",
       " 'ĠÐ°Ð»ÑĤÑĭÐ½',\n",
       " 'ĠÐ¼ÐµÐ´Ð°Ð»ÑĮ',\n",
       " 'ĠÐ°Ð»Ð´Ñĭ',\n",
       " '.',\n",
       " '</s>']"
      ]
     },
     "execution_count": 14,
     "metadata": {},
     "output_type": "execute_result"
    }
   ],
   "source": [
    "encoded.tokens"
   ]
  },
  {
   "cell_type": "code",
   "execution_count": 15,
   "id": "trained-copying",
   "metadata": {},
   "outputs": [
    {
     "name": "stdout",
     "output_type": "stream",
     "text": [
      "['<s>', '1000', ' метрге', ' төрт', ' адамдық', ' бай', 'дар', 'ка', ' қайық', 'пен', ' жарыс', 'уда', ' Қазақстан', ' құрамасы', ' алтын', ' медаль', ' алды', '.', '</s>']\n"
     ]
    }
   ],
   "source": [
    "from tokenizers.decoders import ByteLevel\n",
    "decoder = ByteLevel()\n",
    "\n",
    "kaz_tokens = []\n",
    "for t in encoded.tokens:\n",
    "    kaz_tokens.append(decoder.decode(t))\n",
    "print(kaz_tokens)"
   ]
  },
  {
   "cell_type": "code",
   "execution_count": null,
   "id": "elementary-immunology",
   "metadata": {},
   "outputs": [],
   "source": []
  }
 ],
 "metadata": {
  "kernelspec": {
   "display_name": "Python 3",
   "language": "python",
   "name": "python3"
  },
  "language_info": {
   "codemirror_mode": {
    "name": "ipython",
    "version": 3
   },
   "file_extension": ".py",
   "mimetype": "text/x-python",
   "name": "python",
   "nbconvert_exporter": "python",
   "pygments_lexer": "ipython3",
   "version": "3.8.5"
  }
 },
 "nbformat": 4,
 "nbformat_minor": 5
}
